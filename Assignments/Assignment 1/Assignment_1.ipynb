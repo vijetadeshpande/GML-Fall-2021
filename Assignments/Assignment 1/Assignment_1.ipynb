{
 "cells": [
  {
   "cell_type": "code",
   "execution_count": 1,
   "metadata": {},
   "outputs": [],
   "source": [
    "# import required libraries and files\n",
    "import numpy as np\n",
    "import pandas as pd\n",
    "import get_graph as g_graph\n",
    "import compute_metrics as c_met\n",
    "from collections import OrderedDict\n",
    "import os"
   ]
  },
  {
   "cell_type": "code",
   "execution_count": 2,
   "metadata": {},
   "outputs": [],
   "source": [
    "# initiate a text file to write the answers\n",
    "ans_sheet = open('output_new.txt', 'w')"
   ]
  },
  {
   "cell_type": "code",
   "execution_count": 3,
   "metadata": {},
   "outputs": [],
   "source": [
    "# create graph from the given net-sample.txt file\n",
    "path_ = os.path.join(os.getcwd(), 'net-sample.txt')\n",
    "df_con = g_graph.read_txt(path_)\n",
    "adj_mat = g_graph.get_adjacency(df_con)"
   ]
  },
  {
   "cell_type": "code",
   "execution_count": 4,
   "metadata": {},
   "outputs": [
    {
     "name": "stdout",
     "output_type": "stream",
     "text": [
      "\n",
      "Density of the graph is: 0.11011\n"
     ]
    }
   ],
   "source": [
    "# Question 1: what is density of the graph\n",
    "graph_density = format(c_met.get_density(adj_mat), '.5f')\n",
    "ans_sheet.write(str(graph_density))\n",
    "ans_ = \"\\nDensity of the graph is: %s\"%(graph_density)\n",
    "print(ans_)"
   ]
  },
  {
   "cell_type": "code",
   "execution_count": 5,
   "metadata": {},
   "outputs": [
    {
     "name": "stdout",
     "output_type": "stream",
     "text": [
      "\n",
      "Diameter of the graph is: 1000\n"
     ]
    }
   ],
   "source": [
    "# Question 2: what is the diameter of the graph?\n",
    "ans_sheet.write('\\n')\n",
    "ans_sheet.write('inf')\n",
    "ans_ = \"\\nDiameter of the graph is: %s\"%('1000')\n",
    "print(ans_)"
   ]
  },
  {
   "cell_type": "code",
   "execution_count": 6,
   "metadata": {},
   "outputs": [
    {
     "name": "stdout",
     "output_type": "stream",
     "text": [
      "\n",
      "Total number of the connected components in the graph are: 4\n"
     ]
    }
   ],
   "source": [
    "# Question 3: total number of connected components?\n",
    "conn_comps_n = c_met.get_number_of_connected_components(adj_mat)\n",
    "ans_sheet.write('\\n')\n",
    "ans_sheet.write(str(conn_comps_n))\n",
    "ans_ = \"\\nTotal number of the connected components in the graph are: %d\"%(conn_comps_n)\n",
    "print(ans_)"
   ]
  },
  {
   "cell_type": "code",
   "execution_count": 7,
   "metadata": {},
   "outputs": [
    {
     "name": "stdout",
     "output_type": "stream",
     "text": [
      "\n",
      "Maximum node degree in the graph is: 18\n"
     ]
    }
   ],
   "source": [
    "# Question 4: maximum value of node degree\n",
    "max_degree = int(max(c_met.get_node_centrality(adj_mat)))\n",
    "ans_sheet.write('\\n')\n",
    "ans_sheet.write(str(max_degree))\n",
    "ans_ = \"\\nMaximum node degree in the graph is: %d\"%(max_degree)\n",
    "print(ans_)"
   ]
  },
  {
   "cell_type": "code",
   "execution_count": 8,
   "metadata": {},
   "outputs": [
    {
     "name": "stdout",
     "output_type": "stream",
     "text": [
      "\n",
      "--Node number: 0\n",
      "Degree centrality of the node is: 1\n",
      "Closeness centrality of the node is: 0.00102\n",
      "\n",
      "--Node number: 1\n",
      "Degree centrality of the node is: 18\n",
      "Closeness centrality of the node is: 0.00631\n",
      "\n",
      "--Node number: 2\n",
      "Degree centrality of the node is: 5\n",
      "Closeness centrality of the node is: 0.00629\n",
      "\n",
      "--Node number: 3\n",
      "Degree centrality of the node is: 3\n",
      "Closeness centrality of the node is: 0.00106\n",
      "\n",
      "--Node number: 4\n",
      "Degree centrality of the node is: 8\n",
      "Closeness centrality of the node is: 0.00630\n",
      "\n",
      "--Node number: 5\n",
      "Degree centrality of the node is: 5\n",
      "Closeness centrality of the node is: 0.00628\n",
      "\n",
      "--Node number: 6\n",
      "Degree centrality of the node is: 1\n",
      "Closeness centrality of the node is: 0.00102\n",
      "\n",
      "--Node number: 7\n",
      "Degree centrality of the node is: 3\n",
      "Closeness centrality of the node is: 0.00628\n",
      "\n",
      "--Node number: 8\n",
      "Degree centrality of the node is: 2\n",
      "Closeness centrality of the node is: 0.00626\n",
      "\n",
      "--Node number: 9\n",
      "Degree centrality of the node is: 3\n",
      "Closeness centrality of the node is: 0.00627\n",
      "\n",
      "--Node number: 10\n",
      "Degree centrality of the node is: 1\n",
      "Closeness centrality of the node is: 0.00102\n",
      "\n",
      "--Node number: 11\n",
      "Degree centrality of the node is: 10\n",
      "Closeness centrality of the node is: 0.00630\n",
      "\n",
      "--Node number: 12\n",
      "Degree centrality of the node is: 1\n",
      "Closeness centrality of the node is: 0.00628\n",
      "\n",
      "--Node number: 13\n",
      "Degree centrality of the node is: 6\n",
      "Closeness centrality of the node is: 0.00629\n",
      "\n",
      "--Node number: 14\n",
      "Degree centrality of the node is: 1\n",
      "Closeness centrality of the node is: 0.00625\n",
      "\n",
      "--Node number: 15\n",
      "Degree centrality of the node is: 13\n",
      "Closeness centrality of the node is: 0.00631\n",
      "\n",
      "--Node number: 16\n",
      "Degree centrality of the node is: 8\n",
      "Closeness centrality of the node is: 0.00630\n",
      "\n",
      "--Node number: 17\n",
      "Degree centrality of the node is: 7\n",
      "Closeness centrality of the node is: 0.00629\n",
      "\n",
      "--Node number: 18\n",
      "Degree centrality of the node is: 2\n",
      "Closeness centrality of the node is: 0.00628\n",
      "\n",
      "--Node number: 19\n",
      "Degree centrality of the node is: 5\n",
      "Closeness centrality of the node is: 0.00629\n",
      "\n",
      "--Node number: 20\n",
      "Degree centrality of the node is: 1\n",
      "Closeness centrality of the node is: 0.00626\n",
      "\n",
      "--Node number: 21\n",
      "Degree centrality of the node is: 17\n",
      "Closeness centrality of the node is: 0.00632\n",
      "\n",
      "--Node number: 22\n",
      "Degree centrality of the node is: 9\n",
      "Closeness centrality of the node is: 0.00630\n",
      "\n",
      "--Node number: 23\n",
      "Degree centrality of the node is: 2\n",
      "Closeness centrality of the node is: 0.00626\n",
      "\n",
      "--Node number: 24\n",
      "Degree centrality of the node is: 11\n",
      "Closeness centrality of the node is: 0.00631\n",
      "\n",
      "--Node number: 25\n",
      "Degree centrality of the node is: 6\n",
      "Closeness centrality of the node is: 0.00630\n",
      "\n",
      "--Node number: 26\n",
      "Degree centrality of the node is: 2\n",
      "Closeness centrality of the node is: 0.00627\n",
      "\n",
      "--Node number: 27\n",
      "Degree centrality of the node is: 9\n",
      "Closeness centrality of the node is: 0.00630\n",
      "\n",
      "--Node number: 28\n",
      "Degree centrality of the node is: 3\n",
      "Closeness centrality of the node is: 0.00106\n",
      "\n",
      "--Node number: 29\n",
      "Degree centrality of the node is: 13\n",
      "Closeness centrality of the node is: 0.00631\n",
      "\n",
      "--Node number: 30\n",
      "Degree centrality of the node is: 4\n",
      "Closeness centrality of the node is: 0.00629\n",
      "\n",
      "--Node number: 31\n",
      "Degree centrality of the node is: 1\n",
      "Closeness centrality of the node is: 0.00626\n",
      "\n",
      "--Node number: 32\n",
      "Degree centrality of the node is: 1\n",
      "Closeness centrality of the node is: 0.00102\n",
      "\n",
      "--Node number: 33\n",
      "Degree centrality of the node is: 1\n",
      "Closeness centrality of the node is: 0.00626\n",
      "\n",
      "--Node number: 34\n",
      "Degree centrality of the node is: 10\n",
      "Closeness centrality of the node is: 0.00630\n",
      "\n",
      "--Node number: 35\n",
      "Degree centrality of the node is: 3\n",
      "Closeness centrality of the node is: 0.00629\n",
      "\n",
      "--Node number: 36\n",
      "Degree centrality of the node is: 3\n",
      "Closeness centrality of the node is: 0.00106\n",
      "\n",
      "--Node number: 37\n",
      "Degree centrality of the node is: 3\n",
      "Closeness centrality of the node is: 0.00106\n",
      "\n",
      "--Node number: 38\n",
      "Degree centrality of the node is: 3\n",
      "Closeness centrality of the node is: 0.00627\n",
      "\n",
      "--Node number: 39\n",
      "Degree centrality of the node is: 5\n",
      "Closeness centrality of the node is: 0.00629\n",
      "\n",
      "--Node number: 40\n",
      "Degree centrality of the node is: 10\n",
      "Closeness centrality of the node is: 0.00630\n",
      "\n",
      "--Node number: 41\n",
      "Degree centrality of the node is: 6\n",
      "Closeness centrality of the node is: 0.00630\n",
      "\n",
      "--Node number: 42\n",
      "Degree centrality of the node is: 10\n",
      "Closeness centrality of the node is: 0.00630\n",
      "\n",
      "--Node number: 43\n",
      "Degree centrality of the node is: 8\n",
      "Closeness centrality of the node is: 0.00629\n",
      "\n",
      "--Node number: 44\n",
      "Degree centrality of the node is: 8\n",
      "Closeness centrality of the node is: 0.00629\n",
      "\n",
      "--Node number: 45\n",
      "Degree centrality of the node is: 3\n",
      "Closeness centrality of the node is: 0.00628\n",
      "\n",
      "--Node number: 46\n",
      "Degree centrality of the node is: 1\n",
      "Closeness centrality of the node is: 0.00625\n",
      "\n",
      "--Node number: 47\n",
      "Degree centrality of the node is: 8\n",
      "Closeness centrality of the node is: 0.00629\n",
      "\n",
      "--Node number: 48\n",
      "Degree centrality of the node is: 6\n",
      "Closeness centrality of the node is: 0.00629\n",
      "\n",
      "--Node number: 49\n",
      "Degree centrality of the node is: 8\n",
      "Closeness centrality of the node is: 0.00629\n",
      "\n",
      "--Node number: 50\n",
      "Degree centrality of the node is: 7\n",
      "Closeness centrality of the node is: 0.00629\n",
      "\n",
      "--Node number: 51\n",
      "Degree centrality of the node is: 7\n",
      "Closeness centrality of the node is: 0.00630\n"
     ]
    }
   ],
   "source": [
    "# Question 5: degree centrality and closeness centrality for every node in the graph\n",
    "deg_cen = c_met.get_node_centrality(adj_mat)\n",
    "cls_cen = c_met.get_closeness_centrality(adj_mat)\n",
    "\n",
    "for i in range(len(deg_cen)):\n",
    "    str_ = \"%s %s\"%(str(int(deg_cen[i])), str(format(cls_cen[i], '.5f')))\n",
    "    ans_sheet.write('\\n')\n",
    "    ans_sheet.write(str_)\n",
    "    # print\n",
    "    print(\"\\n--Node number: %d\"%(i))\n",
    "    print(\"Degree centrality of the node is: %d\"%(int(deg_cen[i])))\n",
    "    print(\"Closeness centrality of the node is: %s\"%(format(cls_cen[i], '.5f')))"
   ]
  },
  {
   "cell_type": "code",
   "execution_count": 9,
   "metadata": {},
   "outputs": [
    {
     "name": "stdout",
     "output_type": "stream",
     "text": [
      "\n",
      "--Graph component number: 0\n",
      "Nodes contained in the component are: 0 6 \n",
      "\n",
      "--Graph component number: 1\n",
      "Nodes contained in the component are: 1 2 4 5 7 8 9 11 12 13 14 15 16 17 18 19 20 21 22 23 24 25 26 27 29 30 31 33 34 35 38 39 40 41 42 43 44 45 46 47 48 49 50 51 \n",
      "\n",
      "--Graph component number: 2\n",
      "Nodes contained in the component are: 3 28 36 37 \n",
      "\n",
      "--Graph component number: 3\n",
      "Nodes contained in the component are: 10 32 \n"
     ]
    }
   ],
   "source": [
    "# Question 6: list of nodes in each connected component of the graph\n",
    "conn_comps = c_met.find_connected_components(adj_mat)\n",
    "ord_dict = {}\n",
    "for comp in conn_comps:\n",
    "    ord_dict[conn_comps[comp][0]] = conn_comps[comp]\n",
    "ord_dict = OrderedDict(sorted(ord_dict.items()))\n",
    "\n",
    "cmp = 0\n",
    "for i in ord_dict:\n",
    "    str_ = \"\".join(\"%s \"%(str(j)) for j in sorted(ord_dict[i]))\n",
    "    ans_sheet.write('\\n')\n",
    "    ans_sheet.write(str_)\n",
    "    print(\"\\n--Graph component number: %d\"%(cmp))\n",
    "    print(\"Nodes contained in the component are: %s\"%(str_))\n",
    "    cmp += 1"
   ]
  },
  {
   "cell_type": "code",
   "execution_count": 10,
   "metadata": {},
   "outputs": [],
   "source": [
    "ans_sheet.close()"
   ]
  },
  {
   "cell_type": "code",
   "execution_count": null,
   "metadata": {},
   "outputs": [],
   "source": []
  }
 ],
 "metadata": {
  "kernelspec": {
   "display_name": "Python 3",
   "language": "python",
   "name": "python3"
  },
  "language_info": {
   "codemirror_mode": {
    "name": "ipython",
    "version": 3
   },
   "file_extension": ".py",
   "mimetype": "text/x-python",
   "name": "python",
   "nbconvert_exporter": "python",
   "pygments_lexer": "ipython3",
   "version": "3.7.4"
  }
 },
 "nbformat": 4,
 "nbformat_minor": 4
}
